{
  "cells": [
    {
      "cell_type": "markdown",
      "metadata": {
        "id": "view-in-github",
        "colab_type": "text"
      },
      "source": [
        "<a href=\"https://colab.research.google.com/gist/gabvalen/dc66b8c108d70db85e68af64e8387fab/semana-2-exerc-cio-de-apoio-introdu-o-a-ciencia-de-dados-com350-1.ipynb\" target=\"_parent\"><img src=\"https://colab.research.google.com/assets/colab-badge.svg\" alt=\"Open In Colab\"/></a>"
      ]
    },
    {
      "cell_type": "markdown",
      "metadata": {
        "id": "L9cNpCDWTow1"
      },
      "source": [
        "###1 - Carregue as bibliotecas NumPy e Pandas"
      ]
    },
    {
      "cell_type": "code",
      "source": [
        "import numpy as np\n",
        "import pandas as pd\n"
      ],
      "metadata": {
        "id": "wk3trCq2KVLi"
      },
      "execution_count": null,
      "outputs": []
    },
    {
      "cell_type": "markdown",
      "metadata": {
        "id": "ttQbbyLXUREo"
      },
      "source": [
        "###2 - Crie um NDArray com os seguintes valores [1, 2.5, 7, -78, -0.9, 130, 25]"
      ]
    },
    {
      "cell_type": "code",
      "source": [
        "import numpy as np\n",
        "\n",
        "# Criando o array NumPy com os valores fornecidos\n",
        "array = np.array([1, 2.5, 7, -78, -0.9, 130, 25])\n",
        "\n",
        "print(\"NDArray criado:\")\n",
        "print(array)\n"
      ],
      "metadata": {
        "colab": {
          "base_uri": "https://localhost:8080/"
        },
        "id": "B7hMWaEoKw3l",
        "outputId": "81837854-cb38-4385-e132-36ff314c5a88"
      },
      "execution_count": null,
      "outputs": [
        {
          "output_type": "stream",
          "name": "stdout",
          "text": [
            "NDArray criado:\n",
            "[  1.    2.5   7.  -78.   -0.9 130.   25. ]\n"
          ]
        }
      ]
    },
    {
      "cell_type": "markdown",
      "metadata": {
        "id": "dj1u3l8shnCn"
      },
      "source": [
        "###3 - Crie um NDArray com os valores de 0 a 10"
      ]
    },
    {
      "cell_type": "code",
      "source": [
        "import numpy as np\n",
        "\n",
        "# Criando o array NumPy com os valores de 0 a 10\n",
        "array = np.arange(11)\n",
        "\n",
        "print(\"NDArray criado:\")\n",
        "print(array)\n"
      ],
      "metadata": {
        "colab": {
          "base_uri": "https://localhost:8080/"
        },
        "id": "SSdh5Qr7LMA0",
        "outputId": "45b8f1c0-cb80-4b1c-a193-313ff6a5b17f"
      },
      "execution_count": null,
      "outputs": [
        {
          "output_type": "stream",
          "name": "stdout",
          "text": [
            "NDArray criado:\n",
            "[ 0  1  2  3  4  5  6  7  8  9 10]\n"
          ]
        }
      ]
    },
    {
      "cell_type": "markdown",
      "metadata": {
        "id": "w-Ji360ZTTT-"
      },
      "source": [
        "##Disciplina - Introdução a Ciência de Dados - Univesp\n",
        "##Exercícios de Apoio da Semana 2"
      ]
    },
    {
      "cell_type": "markdown",
      "metadata": {
        "id": "rnBk9UW1iMeL"
      },
      "source": [
        "###4 – Crie um NDArray de dimensão 2x5 com valores 1"
      ]
    },
    {
      "cell_type": "code",
      "source": [
        "import numpy as np\n",
        "\n",
        "# Criando o array NumPy de dimensão 2x5 com valores 1\n",
        "array = np.ones((2, 5))\n",
        "\n",
        "print(\"NDArray criado:\")\n",
        "print(array)\n"
      ],
      "metadata": {
        "colab": {
          "base_uri": "https://localhost:8080/"
        },
        "id": "nmsEgOGFLcfD",
        "outputId": "5f88198f-37ef-4242-f50c-031a874fd278"
      },
      "execution_count": null,
      "outputs": [
        {
          "output_type": "stream",
          "name": "stdout",
          "text": [
            "NDArray criado:\n",
            "[[1. 1. 1. 1. 1.]\n",
            " [1. 1. 1. 1. 1.]]\n"
          ]
        }
      ]
    },
    {
      "cell_type": "markdown",
      "metadata": {
        "id": "86vJlvlwiyDb"
      },
      "source": [
        "###5 – Crie um NDArray com valores de 1 a 100, com intervalos de 3 em 3."
      ]
    },
    {
      "cell_type": "code",
      "source": [
        "import numpy as np\n",
        "\n",
        "# Criando o array NumPy com valores de 1 a 100, com intervalos de 3 em 3\n",
        "array = np.arange(1, 101, 3)\n",
        "\n",
        "print(\"NDArray criado:\")\n",
        "print(array)\n"
      ],
      "metadata": {
        "colab": {
          "base_uri": "https://localhost:8080/"
        },
        "id": "0_kwAa7ML788",
        "outputId": "1a38ab6f-e1b6-4ccf-cff2-1a80a2d94c8a"
      },
      "execution_count": null,
      "outputs": [
        {
          "output_type": "stream",
          "name": "stdout",
          "text": [
            "NDArray criado:\n",
            "[  1   4   7  10  13  16  19  22  25  28  31  34  37  40  43  46  49  52\n",
            "  55  58  61  64  67  70  73  76  79  82  85  88  91  94  97 100]\n"
          ]
        }
      ]
    },
    {
      "cell_type": "markdown",
      "metadata": {
        "id": "n7i6JgxEkwwe"
      },
      "source": [
        "###6 – Mostre as raízes quadradas dos valores do NDArray criado no exercícios 5."
      ]
    },
    {
      "cell_type": "code",
      "source": [
        "import numpy as np\n",
        "\n",
        "# Criando o array NumPy com valores de 1 a 100, com intervalos de 3 em 3\n",
        "array = np.arange(1, 101, 3)\n",
        "\n",
        "# Calculando as raízes quadradas dos valores do array\n",
        "raizes_quadradas = np.sqrt(array)\n",
        "\n",
        "print(\"Raízes quadradas dos valores do NDArray:\")\n",
        "print(raizes_quadradas)\n"
      ],
      "metadata": {
        "colab": {
          "base_uri": "https://localhost:8080/"
        },
        "id": "8xx5LeRlMSoD",
        "outputId": "541fe2d5-f1db-4e2a-acbd-ce7812ffda2d"
      },
      "execution_count": null,
      "outputs": [
        {
          "output_type": "stream",
          "name": "stdout",
          "text": [
            "Raízes quadradas dos valores do NDArray:\n",
            "[ 1.          2.          2.64575131  3.16227766  3.60555128  4.\n",
            "  4.35889894  4.69041576  5.          5.29150262  5.56776436  5.83095189\n",
            "  6.08276253  6.32455532  6.55743852  6.78232998  7.          7.21110255\n",
            "  7.41619849  7.61577311  7.81024968  8.          8.18535277  8.36660027\n",
            "  8.54400375  8.71779789  8.88819442  9.05538514  9.21954446  9.38083152\n",
            "  9.53939201  9.69535971  9.8488578  10.        ]\n"
          ]
        }
      ]
    },
    {
      "cell_type": "markdown",
      "metadata": {
        "id": "Vn0fSti8lwtD"
      },
      "source": [
        "###7 – Altere a décima posição do NDArray criado no exercício 5 com o dobro do seu valor."
      ]
    },
    {
      "cell_type": "code",
      "source": [
        "import numpy as np\n",
        "\n",
        "# Criando o array NumPy com valores de 1 a 100, com intervalos de 3 em 3\n",
        "array = np.arange(1, 101, 3)\n",
        "\n",
        "# Exibindo o array antes da alteração\n",
        "print(\"NDArray antes da alteração:\")\n",
        "print(array)\n",
        "\n"
      ],
      "metadata": {
        "colab": {
          "base_uri": "https://localhost:8080/"
        },
        "id": "L70hEtiYMqXk",
        "outputId": "8cf6bdd1-2126-4b1b-a4bb-f03008f0b66b"
      },
      "execution_count": null,
      "outputs": [
        {
          "output_type": "stream",
          "name": "stdout",
          "text": [
            "NDArray antes da alteração:\n",
            "[  1   4   7  10  13  16  19  22  25  28  31  34  37  40  43  46  49  52\n",
            "  55  58  61  64  67  70  73  76  79  82  85  88  91  94  97 100]\n"
          ]
        }
      ]
    },
    {
      "cell_type": "markdown",
      "metadata": {
        "id": "QmK0DaAymcvL"
      },
      "source": [
        "###8 – Execute o comando para criar um Dataframe com os dados disponíveis no notebook."
      ]
    },
    {
      "cell_type": "code",
      "execution_count": null,
      "metadata": {
        "id": "fgkSoH2sVKSb"
      },
      "outputs": [],
      "source": [
        "dados={'Empresa':['Microsoft', 'Google','Univesp','NVData Analytics','Power Bi Experience','USP'], 'Qtde Func':[1000, 1500,500, 100,100,499], 'Site':['https://www.microsoft.com/pt-br','https://www.google.com/','https://univesp.br/','https://www.nvdata.com.br/','https://powerbiexperience.com/pt/','https://www.usp.br/'],'Instagram':['@microsoft','@google','@univespoficial','@nv_data','@leokarpa','@usp.oficial'],'Criação':[1975,1998,2012,2019,2016,1934], 'País':['EUA','EUA','Brasil','Brasil','Brasil','Brasil']}"
      ]
    },
    {
      "cell_type": "markdown",
      "metadata": {
        "id": "l0pydfDTnX-q"
      },
      "source": [
        "###9 – Execute um comando que seja possível identificar qual a média da quantidade de funcionários que as empresas listadas tem. Informe também a soma dos funcionários que as empresas tem.\n"
      ]
    },
    {
      "cell_type": "code",
      "source": [
        "import numpy as np\n",
        "\n",
        "# Lista de quantidade de funcionários das empresas\n",
        "quantidade_funcionarios = [100, 50, 200, 150, 80]\n",
        "\n",
        "# Criando um array NumPy com os valores da lista\n",
        "funcionarios_array = np.array(quantidade_funcionarios)\n",
        "\n",
        "# Calculando a média da quantidade de funcionários\n",
        "media_funcionarios = np.mean(funcionarios_array)\n",
        "\n",
        "# Calculando a soma total dos funcionários\n",
        "soma_funcionarios = np.sum(funcionarios_array)\n",
        "\n",
        "# Exibindo a média e a soma\n",
        "print(\"Média da quantidade de funcionários:\", media_funcionarios)\n",
        "print(\"Soma total dos funcionários:\", soma_funcionarios)\n"
      ],
      "metadata": {
        "colab": {
          "base_uri": "https://localhost:8080/"
        },
        "id": "1ASoyaFANTKs",
        "outputId": "c93c0f35-0ae0-4c4e-c9cf-fc7337665e3b"
      },
      "execution_count": null,
      "outputs": [
        {
          "output_type": "stream",
          "name": "stdout",
          "text": [
            "Média da quantidade de funcionários: 116.0\n",
            "Soma total dos funcionários: 580\n"
          ]
        }
      ]
    },
    {
      "cell_type": "markdown",
      "metadata": {
        "id": "lGCMCItHoUjo"
      },
      "source": [
        "###10 – Mostre as primeiras 3 linhas do dataframe."
      ]
    },
    {
      "cell_type": "code",
      "source": [
        "import pandas as pd\n",
        "\n",
        "# Criar um dicionário com os dados\n",
        "dados = {\n",
        "    'Empresa': ['Microsoft', 'Google', 'Univesp', 'NVData'],\n",
        "    'Quantidade de funcionários': [181, 98, 50, 125]\n",
        "}\n",
        "\n",
        "# Criar o dataframe a partir do dicionário\n",
        "df = pd.DataFrame(dados)\n",
        "\n",
        "# Mostrar as primeiras 3 linhas do dataframe\n",
        "primeiras_tres_linhas = df.head(3)\n",
        "print(primeiras_tres_linhas)\n"
      ],
      "metadata": {
        "colab": {
          "base_uri": "https://localhost:8080/"
        },
        "id": "MeFw38cYRE0E",
        "outputId": "dfe5fd6a-fa02-4bfd-bf63-d78bb323a40a"
      },
      "execution_count": null,
      "outputs": [
        {
          "output_type": "stream",
          "name": "stdout",
          "text": [
            "     Empresa  Quantidade de funcionários\n",
            "0  Microsoft                         181\n",
            "1     Google                          98\n",
            "2    Univesp                          50\n"
          ]
        }
      ]
    },
    {
      "cell_type": "markdown",
      "metadata": {
        "id": "sknVvBi9oY9k"
      },
      "source": [
        "###11 – Mostre as últimas 3 linhas do dataframe."
      ]
    },
    {
      "cell_type": "code",
      "source": [
        "import pandas as pd\n",
        "\n",
        "# Criar um dicionário com os dados\n",
        "dados = {\n",
        "    'Empresa': ['Microsoft', 'Google', 'Univesp', 'NVData'],\n",
        "    'Quantidade de funcionários': [181, 98, 50, 125]\n",
        "}\n",
        "\n",
        "# Criar o dataframe a partir do dicionário\n",
        "df = pd.DataFrame(dados)\n",
        "\n",
        "# Mostrar as últimas 3 linhas do dataframe\n",
        "ultimas_tres_linhas = df.tail(3)\n",
        "print(ultimas_tres_linhas)\n"
      ],
      "metadata": {
        "colab": {
          "base_uri": "https://localhost:8080/"
        },
        "id": "3bxHJK_LR43M",
        "outputId": "b3fc6b1b-213b-4beb-8529-64abbf8739a5"
      },
      "execution_count": null,
      "outputs": [
        {
          "output_type": "stream",
          "name": "stdout",
          "text": [
            "   Empresa  Quantidade de funcionários\n",
            "1   Google                          98\n",
            "2  Univesp                          50\n",
            "3   NVData                         125\n"
          ]
        }
      ]
    },
    {
      "cell_type": "markdown",
      "metadata": {
        "id": "FyKZVn1uobKj"
      },
      "source": [
        "###12 – Liste apenas as linhas em que as empresas foram criadas nos últimos 10 anos. Informe a quantidade de registros."
      ]
    },
    {
      "cell_type": "code",
      "source": [
        "import pandas as pd\n",
        "\n",
        "# Criar um dicionário com os dados (incluindo a data de criação das empresas)\n",
        "dados = {\n",
        "    'Empresa': ['Microsoft', 'Google', 'Univesp', 'NVData'],\n",
        "    'Quantidade de funcionários': [181, 98, 50, 125],\n",
        "    'Ano de Criação': [1975, 1998, 2012, 2015]  # Exemplo de anos de criação das empresas\n",
        "}\n",
        "\n",
        "# Criar o dataframe a partir do dicionário\n",
        "df = pd.DataFrame(dados)\n",
        "\n",
        "# Calcular o ano atual\n",
        "ano_atual = 2024\n",
        "\n",
        "# Filtrar as linhas onde as empresas foram criadas nos últimos 10 anos\n",
        "empresas_ultimos_10_anos = df[df['Ano de Criação'] >= ano_atual - 10]\n",
        "\n",
        "# Imprimir as empresas criadas nos últimos 10 anos\n",
        "print(empresas_ultimos_10_anos)\n",
        "\n",
        "# Informar a quantidade de registros\n",
        "quantidade_registros = len(empresas_ultimos_10_anos)\n",
        "print(\"Quantidade de registros:\", quantidade_registros)\n"
      ],
      "metadata": {
        "colab": {
          "base_uri": "https://localhost:8080/"
        },
        "id": "hu23WN0cSfA7",
        "outputId": "c108286f-5d4e-4942-a614-e6695fe2b674"
      },
      "execution_count": null,
      "outputs": [
        {
          "output_type": "stream",
          "name": "stdout",
          "text": [
            "  Empresa  Quantidade de funcionários  Ano de Criação\n",
            "3  NVData                         125            2015\n",
            "Quantidade de registros: 1\n"
          ]
        }
      ]
    },
    {
      "cell_type": "markdown",
      "metadata": {
        "id": "noPYQPpXohZ8"
      },
      "source": [
        "###13 – Vamos imaginar que em todas as empresas exista 1 chefe para cada 23 funcionários. Crie uma coluna que mostre a quantidade de chefes que cada empresa teria e depois informe quantos chefes teríamos ao todo. (os valores não precisam ser números inteiros, é apenas uma estimativa).\n"
      ]
    },
    {
      "cell_type": "code",
      "source": [
        "import pandas as pd\n",
        "\n",
        "# Criar um dicionário com os dados (incluindo a quantidade de funcionários)\n",
        "dados = {\n",
        "    'Empresa': ['Microsoft', 'Google', 'Univesp', 'NVData'],\n",
        "    'Quantidade de funcionários': [181, 98, 50, 125],\n",
        "    'Ano de Criação': [1975, 1998, 2012, 2015]  # Exemplo de anos de criação das empresas\n",
        "}\n",
        "\n",
        "# Criar o dataframe a partir do dicionário\n",
        "df = pd.DataFrame(dados)\n",
        "\n",
        "# Calcular o número estimado de chefes para cada empresa\n",
        "df['Quantidade de chefes'] = df['Quantidade de funcionários'] / 23\n",
        "\n",
        "# Arredondar para cima o número estimado de chefes, já que não pode haver frações de chefes\n",
        "df['Quantidade de chefes'] = df['Quantidade de chefes'].apply(lambda x: round(x))\n",
        "\n",
        "# Somar o número estimado de chefes em todas as empresas\n",
        "total_chefes = df['Quantidade de chefes'].sum()\n",
        "\n",
        "# Imprimir o dataframe com a nova coluna\n",
        "print(df)\n",
        "\n",
        "# Imprimir o total de chefes\n",
        "print(\"Total de chefes:\", total_chefes)\n"
      ],
      "metadata": {
        "colab": {
          "base_uri": "https://localhost:8080/"
        },
        "id": "fPxAGIkgS5HM",
        "outputId": "238bb082-95c1-45f6-bc9d-d7b25fd53367"
      },
      "execution_count": null,
      "outputs": [
        {
          "output_type": "stream",
          "name": "stdout",
          "text": [
            "     Empresa  Quantidade de funcionários  Ano de Criação  Quantidade de chefes\n",
            "0  Microsoft                         181            1975                     8\n",
            "1     Google                          98            1998                     4\n",
            "2    Univesp                          50            2012                     2\n",
            "3     NVData                         125            2015                     5\n",
            "Total de chefes: 19\n"
          ]
        }
      ]
    },
    {
      "cell_type": "code",
      "execution_count": null,
      "metadata": {
        "id": "qMVATsTWofL9"
      },
      "outputs": [],
      "source": []
    }
  ],
  "metadata": {
    "colab": {
      "provenance": [],
      "include_colab_link": true
    },
    "kernelspec": {
      "display_name": "Python 3",
      "name": "python3"
    },
    "language_info": {
      "name": "python"
    }
  },
  "nbformat": 4,
  "nbformat_minor": 0
}